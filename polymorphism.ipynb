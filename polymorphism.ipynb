{
 "cells": [
  {
   "attachments": {},
   "cell_type": "markdown",
   "metadata": {},
   "source": [
    "### Polymorphism "
   ]
  },
  {
   "cell_type": "code",
   "execution_count": 1,
   "metadata": {},
   "outputs": [
    {
     "name": "stdout",
     "output_type": "stream",
     "text": [
      "Greeting in English is - Good Morning\n",
      "Greeting in French is  - Bonjour\n"
     ]
    }
   ],
   "source": [
    "class English():\n",
    "    def hello(self):\n",
    "        return 'Greeting in English is - Good Morning'\n",
    "    \n",
    "\n",
    "class French():\n",
    "    def hello(self):\n",
    "        return 'Greeting in French is  - Bonjour'\n",
    "\n",
    "\n",
    "english = English()\n",
    "french  = French()\n",
    "\n",
    "\n",
    "def speaking(greet):\n",
    "    return  greet.hello()\n",
    "\n",
    "print(speaking(english))\n",
    "print(speaking(french))"
   ]
  }
 ],
 "metadata": {
  "kernelspec": {
   "display_name": "deeplearning",
   "language": "python",
   "name": "python3"
  },
  "language_info": {
   "codemirror_mode": {
    "name": "ipython",
    "version": 3
   },
   "file_extension": ".py",
   "mimetype": "text/x-python",
   "name": "python",
   "nbconvert_exporter": "python",
   "pygments_lexer": "ipython3",
   "version": "3.8.13"
  },
  "orig_nbformat": 4,
  "vscode": {
   "interpreter": {
    "hash": "6a29e2c6032db948d2ac4841a3008c24c124c9d60225cd5bb2e940e04b511554"
   }
  }
 },
 "nbformat": 4,
 "nbformat_minor": 2
}
