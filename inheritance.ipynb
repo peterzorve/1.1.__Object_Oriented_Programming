{
 "cells": [
  {
   "cell_type": "code",
   "execution_count": null,
   "metadata": {},
   "outputs": [],
   "source": []
  },
  {
   "attachments": {},
   "cell_type": "markdown",
   "metadata": {},
   "source": [
    "#### Before \n",
    "    In the first senario, shown below, both Cat and Dog classes have name and age attributes, the only difference is a Cat speak (MEOOW) differently than a Dog (BARK). They both have the property speak, but their outputs are different \n",
    "    The naive way of writing this will be as follows."
   ]
  },
  {
   "cell_type": "code",
   "execution_count": 1,
   "metadata": {},
   "outputs": [
    {
     "name": "stdout",
     "output_type": "stream",
     "text": [
      "My name Catty. I am 13 years old. I MEOOOOW\n",
      "My name Doggy. I am 5 years old. I BARK\n"
     ]
    }
   ],
   "source": [
    "class Cat():\n",
    "    def __init__(self, name, age):\n",
    "        self.name = name \n",
    "        self.age  = age \n",
    "\n",
    "    def speak(self):\n",
    "        return f'My name {self.name}. I am {self.age} years old. I MEOOOOW'\n",
    "    \n",
    "\n",
    "class Dog():\n",
    "    def __init__(self, name, age):\n",
    "        self.name = name \n",
    "        self.age = age \n",
    "\n",
    "    def speak(self):\n",
    "        return f'My name {self.name}. I am {self.age} years old. I BARK'\n",
    "\n",
    "\n",
    "cat = Cat('Catty', 13)\n",
    "dog = Dog('Doggy', 5)\n",
    "\n",
    "print(cat.speak())\n",
    "print(dog.speak())\n"
   ]
  },
  {
   "attachments": {},
   "cell_type": "markdown",
   "metadata": {},
   "source": [
    "#### After \n",
    "    We can now have a parent class, called Pet, that contains all the common characteristics and the Cat and Dog class could inherit that."
   ]
  },
  {
   "cell_type": "code",
   "execution_count": 3,
   "metadata": {},
   "outputs": [
    {
     "name": "stdout",
     "output_type": "stream",
     "text": [
      "I am just a Pet. I do not know what to say\n",
      "My name Catty. I am 13 years old. I MEOOOOW\n",
      "My name Doggy. I am 5 years old. I BARK\n",
      "I am Fishy. I just Bubble in the Lake\n"
     ]
    }
   ],
   "source": [
    "\n",
    "class Pet():\n",
    "    def __init__(self, name, age):\n",
    "        self.name = name \n",
    "        self.age  = age \n",
    "\n",
    "    def speak(self):\n",
    "        return 'I am just a Pet. I do not know what to say'\n",
    "\n",
    "class Cat(Pet):\n",
    "    def speak(self):\n",
    "        return f'My name {self.name}. I am {self.age} years old. I MEOOOOW'\n",
    "    \n",
    "class Dog(Pet):\n",
    "    def speak(self):\n",
    "        return f'My name {self.name}. I am {self.age} years old. I BARK'\n",
    "\n",
    "\n",
    "    \n",
    "class Fish(Pet):\n",
    "    def __init__(self, name, age, water):\n",
    "        super().__init__(name, age)\n",
    "        self.water = water \n",
    "\n",
    "    def speak(self):\n",
    "        return f'I am {self.name}. I just Bubble in the {self.water}'\n",
    "        \n",
    "\n",
    "pet = Pet('Pet', 15)\n",
    "cat = Cat('Catty', 13)\n",
    "dog = Dog('Doggy', 5)\n",
    "fish = Fish('Fishy', 20, 'Lake')\n",
    "\n",
    "print(pet.speak())\n",
    "print(cat.speak())\n",
    "print(dog.speak())\n",
    "print(fish.speak())\n",
    "\n"
   ]
  }
 ],
 "metadata": {
  "kernelspec": {
   "display_name": "deeplearning",
   "language": "python",
   "name": "python3"
  },
  "language_info": {
   "codemirror_mode": {
    "name": "ipython",
    "version": 3
   },
   "file_extension": ".py",
   "mimetype": "text/x-python",
   "name": "python",
   "nbconvert_exporter": "python",
   "pygments_lexer": "ipython3",
   "version": "3.8.13"
  },
  "orig_nbformat": 4,
  "vscode": {
   "interpreter": {
    "hash": "6a29e2c6032db948d2ac4841a3008c24c124c9d60225cd5bb2e940e04b511554"
   }
  }
 },
 "nbformat": 4,
 "nbformat_minor": 2
}
