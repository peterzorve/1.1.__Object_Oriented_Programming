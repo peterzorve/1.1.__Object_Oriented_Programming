{
 "cells": [
  {
   "attachments": {},
   "cell_type": "markdown",
   "metadata": {},
   "source": [
    "### ENCAPSULATION \n",
    "    In encapsulation, we try to hide some of the features, variables, and method.  \n",
    "    We can do that by using a double underscore"
   ]
  },
  {
   "attachments": {},
   "cell_type": "markdown",
   "metadata": {},
   "source": [
    "#### Before"
   ]
  },
  {
   "cell_type": "code",
   "execution_count": 1,
   "metadata": {},
   "outputs": [
    {
     "name": "stdout",
     "output_type": "stream",
     "text": [
      "800\n",
      "720.0\n"
     ]
    }
   ],
   "source": [
    "class Payment():\n",
    "    def __init__(self, price):\n",
    "        self.price = price  + (0.25 * price)\n",
    "\n",
    "    def calculate_discount(self, discount):\n",
    "        return self.price - (self.price * (discount/100))\n",
    "\n",
    "    def get_price(self):\n",
    "        return self.price \n",
    "\n",
    "    def final_price(self, discount):\n",
    "        return  self.calculate_discount(discount)\n",
    "    \n",
    "\"\"\" If the class is like the above, the user can modify the varible (price) in the class from the outside. \"\"\"\n",
    "\n",
    "pay = Payment(200)\n",
    "\n",
    "pay.price = 800 \n",
    "\n",
    "print(pay.get_price())\n",
    "print(pay.final_price(10))"
   ]
  },
  {
   "attachments": {},
   "cell_type": "markdown",
   "metadata": {},
   "source": [
    "#### After"
   ]
  },
  {
   "cell_type": "code",
   "execution_count": 2,
   "metadata": {},
   "outputs": [
    {
     "name": "stdout",
     "output_type": "stream",
     "text": [
      "250.0\n",
      "225.0\n"
     ]
    }
   ],
   "source": [
    "class Payment():\n",
    "    def __init__(self, price):\n",
    "        self.__price = price  + (0.25 * price)\n",
    "\n",
    "    def __calculate_discount(self, discount):\n",
    "        return self.__price - (self.__price * (discount/100))\n",
    "\n",
    "    def get_price(self):\n",
    "        return self.__price \n",
    "\n",
    "    def final_price(self, discount):\n",
    "        return  self.__calculate_discount(discount)\n",
    "    \n",
    "\n",
    "\"\"\" Here, the code and class works exactly the same way, but the user cannot modify the variable (price) from outside the class \"\"\"\n",
    "\n",
    "pay = Payment(200)\n",
    "\n",
    "pay.__price = 800 \n",
    "\n",
    "print(pay.get_price())\n",
    "print(pay.final_price(10))\n"
   ]
  }
 ],
 "metadata": {
  "kernelspec": {
   "display_name": "deeplearning",
   "language": "python",
   "name": "python3"
  },
  "language_info": {
   "codemirror_mode": {
    "name": "ipython",
    "version": 3
   },
   "file_extension": ".py",
   "mimetype": "text/x-python",
   "name": "python",
   "nbconvert_exporter": "python",
   "pygments_lexer": "ipython3",
   "version": "3.8.13"
  },
  "orig_nbformat": 4,
  "vscode": {
   "interpreter": {
    "hash": "6a29e2c6032db948d2ac4841a3008c24c124c9d60225cd5bb2e940e04b511554"
   }
  }
 },
 "nbformat": 4,
 "nbformat_minor": 2
}
