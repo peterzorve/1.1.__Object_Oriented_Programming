{
 "cells": [
  {
   "attachments": {},
   "cell_type": "markdown",
   "metadata": {},
   "source": [
    "\n",
    "### Example 1. \n",
    "    Let us consider some an example of OOP and how it is written. Our first OOP will be called SimpleOperation\n"
   ]
  },
  {
   "cell_type": "code",
   "execution_count": 2,
   "metadata": {},
   "outputs": [
    {
     "name": "stdout",
     "output_type": "stream",
     "text": [
      "90\n",
      "70\n",
      "800\n",
      "8.0\n"
     ]
    }
   ],
   "source": [
    "class SimpleOperation():\n",
    "    def __init__(self, x1, x2):                         # Special method : Instantiate the methods\n",
    "        self.number1 = x1    # Attribute                # Anytime the class is called, the __init__() method is called \n",
    "        self.number2 = x2    # Attribute\n",
    "\n",
    "    def addition(self):                                 # Method 1                  \n",
    "        return self.number1 + self.number2 \n",
    "\n",
    "    def subtraction(self):                              # Method 2\n",
    "        return self.number1 - self.number2\n",
    "\n",
    "    def multiplication(self):                           # Method 3\n",
    "        return self.number1 * self.number2\n",
    "\n",
    "    def division(self):                                 # Method 4\n",
    "        return self.number1 / self.number2\n",
    "\n",
    "\n",
    "simp_oper = SimpleOperation(80, 10)\n",
    "\n",
    "addition = simp_oper.addition()\n",
    "substraction = simp_oper.subtraction()\n",
    "multiplication = simp_oper.multiplication()\n",
    "division = simp_oper.division()\n",
    "\n",
    "print(addition)\n",
    "print(substraction)\n",
    "print(multiplication)\n",
    "print(division)"
   ]
  },
  {
   "attachments": {},
   "cell_type": "markdown",
   "metadata": {},
   "source": [
    "### Example 2\n",
    "    Let's create a second OOP that check the length, type and compare two difference variable. Let's call it CheckVariables\n"
   ]
  },
  {
   "cell_type": "code",
   "execution_count": 3,
   "metadata": {},
   "outputs": [
    {
     "name": "stdout",
     "output_type": "stream",
     "text": [
      "False\n",
      "(<class 'int'>, <class 'float'>)\n",
      "(2, 7)\n"
     ]
    }
   ],
   "source": [
    "class CheckVariables():\n",
    "    def __init__(self, x1, x2):\n",
    "        self.x1 = x1 \n",
    "        self.x2 = x2 \n",
    "    \n",
    "    def length(self):\n",
    "        if type(self.x1) == int or type(self.x1) == float:\n",
    "            self.x1 = str(self.x1)\n",
    "        if type(self.x2) == int or type(self.x2) == float:\n",
    "            self.x2 = str(self.x2)\n",
    "        return len(self.x1), len(self.x2)\n",
    "    \n",
    "    def data_type(self):\n",
    "        return type(self.x1), type(self.x2)\n",
    "\n",
    "    def is_equal(self):\n",
    "        return self.x1 == self.x2 \n",
    "\n",
    "\n",
    "check = CheckVariables(15, 200.001)\n",
    "\n",
    "equal = check.is_equal()\n",
    "data_type = check.data_type()\n",
    "length = check.length()\n",
    "\n",
    "print(equal)\n",
    "print(data_type)\n",
    "print(length)"
   ]
  },
  {
   "attachments": {},
   "cell_type": "markdown",
   "metadata": {},
   "source": [
    "### Example 3\n",
    "    Let's create two OOPs, the first to create a student database, the second is to add the second to a Course\n"
   ]
  },
  {
   "cell_type": "code",
   "execution_count": 4,
   "metadata": {},
   "outputs": [
    {
     "name": "stdout",
     "output_type": "stream",
     "text": [
      "30\n",
      "Peter Zorve\n",
      "80\n",
      "PETER ZORVE  was added Successfully\n",
      "BEATRICE ENYONAM  was added Successfully\n",
      "JAMES OBBIN  was added Successfully\n",
      "JOHN WILLS  was added Successfully\n",
      "WILLIAMS JUNE  was added Successfully\n",
      "Adding   BILL GATE   failed\n",
      "85.0\n",
      "['Beatrice Enyonam', 'James Obbin', 'John Wills', 'Williams June']\n"
     ]
    }
   ],
   "source": [
    "class Student():\n",
    "    def __init__(self, name, age, grade):\n",
    "        self.name = name \n",
    "        self.age  = age  \n",
    "        self.grade = grade \n",
    "\n",
    "    def get_name(self):\n",
    "        return self.name \n",
    "    \n",
    "    def get_grade(self):\n",
    "        return self.grade \n",
    "\n",
    "    def get_age(self):\n",
    "        return self.age \n",
    "\n",
    "\n",
    "class Course():\n",
    "    def __init__(self, course, max_students):\n",
    "        self.course = course \n",
    "        self.students = []\n",
    "        self.max_students = max_students \n",
    "        \n",
    "    def add_student(self, name):\n",
    "        if len(self.students) <= self.max_students-1:\n",
    "            self.students.append(name)\n",
    "            return f'{name.get_name().upper()}  was added Successfully' \n",
    "        return f'Adding   {name.get_name().upper()}   failed' \n",
    "    \n",
    "    def remove_student(self, name):\n",
    "        if name in self.students:\n",
    "            self.students.remove(name)\n",
    "\n",
    "    def get_average_grade(self): \n",
    "        total_grade = 0 \n",
    "        for i in self.students: \n",
    "            total_grade = total_grade + i.get_grade()\n",
    "        average_grade = total_grade / len(self.students)\n",
    "        return average_grade \n",
    "\n",
    "    def get_student_names(self):\n",
    "        only_names = [] \n",
    "        for i in self.students: \n",
    "            only_names.append(i.get_name())\n",
    "        return only_names\n",
    "\n",
    "\n",
    "student1 = Student('Peter Zorve', 30, 80)\n",
    "student2 = Student('Beatrice Enyonam', 35, 90)\n",
    "student3 = Student('James Obbin', 30, 80)\n",
    "student4 = Student('John Wills', 35, 90)\n",
    "student5 = Student('Williams June', 30, 80)\n",
    "student6 = Student('Bill Gate', 35, 90)\n",
    "\n",
    "course = Course('Python Class', 5)\n",
    "\n",
    "\n",
    "print(student1.age)\n",
    "print(student1.name)\n",
    "print(student1.grade)\n",
    "\n",
    "print(course.add_student(student1))\n",
    "print(course.add_student(student2))\n",
    "print(course.add_student(student3))\n",
    "print(course.add_student(student4))\n",
    "print(course.add_student(student5))\n",
    "print(course.add_student(student6))\n",
    "\n",
    "\n",
    "course.remove_student(student1)\n",
    "\n",
    "print(course.get_average_grade())\n",
    "print(course.get_student_names())\n",
    "\n"
   ]
  }
 ],
 "metadata": {
  "kernelspec": {
   "display_name": "deeplearning",
   "language": "python",
   "name": "python3"
  },
  "language_info": {
   "codemirror_mode": {
    "name": "ipython",
    "version": 3
   },
   "file_extension": ".py",
   "mimetype": "text/x-python",
   "name": "python",
   "nbconvert_exporter": "python",
   "pygments_lexer": "ipython3",
   "version": "3.8.13"
  },
  "orig_nbformat": 4,
  "vscode": {
   "interpreter": {
    "hash": "6a29e2c6032db948d2ac4841a3008c24c124c9d60225cd5bb2e940e04b511554"
   }
  }
 },
 "nbformat": 4,
 "nbformat_minor": 2
}
